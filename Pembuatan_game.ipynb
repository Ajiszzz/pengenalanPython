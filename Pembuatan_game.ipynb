{
  "cells": [
    {
      "cell_type": "markdown",
      "metadata": {
        "id": "view-in-github",
        "colab_type": "text"
      },
      "source": [
        "<a href=\"https://colab.research.google.com/github/Ajiszzz/pengenalanPython/blob/main/Pembuatan_game.ipynb\" target=\"_parent\"><img src=\"https://colab.research.google.com/assets/colab-badge.svg\" alt=\"Open In Colab\"/></a>"
      ]
    },
    {
      "cell_type": "code",
      "execution_count": null,
      "metadata": {
        "colab": {
          "base_uri": "https://localhost:8080/"
        },
        "id": "FdON47uRbUOn",
        "outputId": "69aa9775-b324-4c02-a4a1-20fa04bdca78"
      },
      "outputs": [
        {
          "metadata": {
            "tags": null
          },
          "name": "stdout",
          "output_type": "stream",
          "text": [
            "========================================\n",
            "Kami telah memiliki angka random, silakan tebak angka 1-50!\n",
            "========================================\n"
          ]
        }
      ],
      "source": [
        "#Game Tebak Angka Aziz z Dan Fadhil\n",
        "\n",
        "import random\n",
        "\n",
        "angka_acak = random.randint(1, 50)\n",
        "print('=' * 40)\n",
        "print('Kami telah memiliki angka random, silakan tebak angka 1-50!')\n",
        "print('=' * 40)\n",
        "batas_percobaan = 5\n",
        "for percobaan in range(batas_percobaan):\n",
        "    jawaban = int(input(f'\\n[Percobaan {percobaan + 1}] Masukkan angka: '))\n",
        "\n",
        "    if jawaban == 40:\n",
        "        print('Selamat, tebakanmu benar!')\n",
        "        break\n",
        "    else:\n",
        "        print('Tebakanmu terlalu', 'kecil' if jawaban < angka_acak else 'besar')\n",
        "else:\n",
        "    print('f\\nSayang sekali, kamu sudah salah menebak sebanyak {batas_percobaan}x!')"
      ]
    }
  ],
  "metadata": {
    "colab": {
      "provenance": [],
      "authorship_tag": "ABX9TyPhIlVMNzol1ylMeKsEgv0z",
      "include_colab_link": true
    },
    "kernelspec": {
      "display_name": "Python 3",
      "name": "python3"
    },
    "language_info": {
      "name": "python"
    }
  },
  "nbformat": 4,
  "nbformat_minor": 0
}