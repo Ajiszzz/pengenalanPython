{
  "nbformat": 4,
  "nbformat_minor": 0,
  "metadata": {
    "colab": {
      "provenance": [],
      "authorship_tag": "ABX9TyNbrAbgQ2p9i4AZnmH+xFkR",
      "include_colab_link": true
    },
    "kernelspec": {
      "name": "python3",
      "display_name": "Python 3"
    },
    "language_info": {
      "name": "python"
    }
  },
  "cells": [
    {
      "cell_type": "markdown",
      "metadata": {
        "id": "view-in-github",
        "colab_type": "text"
      },
      "source": [
        "<a href=\"https://colab.research.google.com/github/Ajiszzz/pengenalanPython/blob/main/Variabel.ipynb\" target=\"_parent\"><img src=\"https://colab.research.google.com/assets/colab-badge.svg\" alt=\"Open In Colab\"/></a>"
      ]
    },
    {
      "cell_type": "code",
      "source": [],
      "metadata": {
        "id": "SgIEz_F3IKpn"
      },
      "execution_count": null,
      "outputs": []
    },
    {
      "cell_type": "markdown",
      "source": [
        "#Variable\n",
        "Sesuai dengan namanya, variable adalah sesuatu yang dapat berubah. Variabel ini digunakan untuk merujuk menuju lokasi memori oleh program komputer.\n",
        "Pada sebagian besar bahasa lain, Anda perlu menetapkan tipe data terhadap suatu variabel. Namun, hal itu tidak perlu dilakukan pada bahasa pemrograman python. Sebagai contoh, jika Anda menulis program dengan menggunakan bahasa C, maka sintaks yang harus anda tulis adalah int num = 39; Dengan Python Anda hanya cukup menuliskan num = 39.\n",
        "Untuk memeriksanya, Anda dapat membuka Jupyter notebook atau Python Shell, lalu lakukan langkah demi langkah perintah di bawah ini:"
      ],
      "metadata": {
        "id": "KpXlF1icILgR"
      }
    },
    {
      "cell_type": "markdown",
      "source": [
        "**Integer**\n",
        "\n",
        "Integer adalah angka numerik yang dapat berupa nilai positif, negatif, atau nol tanpa memiliki angka desimal"
      ],
      "metadata": {
        "id": "V23sO8xuI0in"
      }
    },
    {
      "cell_type": "code",
      "source": [
        "\n",
        "num = 39\n",
        "print(num)\n",
        "39\n",
        "type(num)"
      ],
      "metadata": {
        "colab": {
          "base_uri": "https://localhost:8080/"
        },
        "id": "O9ZHsLZzI7dO",
        "outputId": "cccff634-d83d-4d74-9784-b410a15dccd4"
      },
      "execution_count": 4,
      "outputs": [
        {
          "output_type": "stream",
          "name": "stdout",
          "text": [
            "39\n"
          ]
        },
        {
          "output_type": "execute_result",
          "data": {
            "text/plain": [
              "int"
            ]
          },
          "metadata": {},
          "execution_count": 4
        }
      ]
    },
    {
      "cell_type": "markdown",
      "source": [
        "**Float**\n",
        "\n",
        "Float adalah angka numerik sama seperti integer , namun ada sedikit perbedaan, yaitu adanya angka desimal"
      ],
      "metadata": {
        "id": "MTReqLCrJbeB"
      }
    },
    {
      "cell_type": "code",
      "source": [
        "num = 39.0\n",
        "print(num)\n",
        "39.0\n",
        "type(num)"
      ],
      "metadata": {
        "colab": {
          "base_uri": "https://localhost:8080/"
        },
        "id": "1PI5SIOpJlQd",
        "outputId": "2bdca5ba-71d3-4ab6-d553-2a4b457b20ba"
      },
      "execution_count": 9,
      "outputs": [
        {
          "output_type": "stream",
          "name": "stdout",
          "text": [
            "39.0\n"
          ]
        },
        {
          "output_type": "execute_result",
          "data": {
            "text/plain": [
              "float"
            ]
          },
          "metadata": {},
          "execution_count": 9
        }
      ]
    },
    {
      "cell_type": "markdown",
      "source": [],
      "metadata": {
        "id": "aC-SLLd6KSCD"
      }
    },
    {
      "cell_type": "markdown",
      "source": [
        "**String**\n",
        "\n",
        "\n",
        "String adalah kumpulan beberapa karakter atau integer. String tersebut direpresentasikan dengan menggunakan tanda quotes (double ataupun single)."
      ],
      "metadata": {
        "id": "YW08WuyuJpeW"
      }
    },
    {
      "cell_type": "code",
      "source": [
        "\n",
        "test =\"Hallo semua\"\n",
        "print(test )\n",
        "\"Hallo semua\"\n",
        "type(test )"
      ],
      "metadata": {
        "colab": {
          "base_uri": "https://localhost:8080/"
        },
        "id": "rYz4YqDkJ4ea",
        "outputId": "61fbb192-16fe-4216-9da7-0c6ba1608fcc"
      },
      "execution_count": 8,
      "outputs": [
        {
          "output_type": "stream",
          "name": "stdout",
          "text": [
            "Hallo semua\n"
          ]
        },
        {
          "output_type": "execute_result",
          "data": {
            "text/plain": [
              "str"
            ]
          },
          "metadata": {},
          "execution_count": 8
        }
      ]
    },
    {
      "cell_type": "markdown",
      "source": [
        "**Boolean**\n",
        "\n",
        "Boolean adalah operator biner yang hanya memiliki dua nilai output yaitu True atau False."
      ],
      "metadata": {
        "id": "sS5ai6-CKW7e"
      }
    },
    {
      "cell_type": "code",
      "source": [
        "\n",
        "anda_robot = False\n",
        "print(anda_robot)\n",
        "False\n",
        "type(anda_robot)"
      ],
      "metadata": {
        "colab": {
          "base_uri": "https://localhost:8080/"
        },
        "id": "unNduovMKbVb",
        "outputId": "a242465e-a045-4d0d-feea-ae784291f9de"
      },
      "execution_count": 10,
      "outputs": [
        {
          "output_type": "stream",
          "name": "stdout",
          "text": [
            "False\n"
          ]
        },
        {
          "output_type": "execute_result",
          "data": {
            "text/plain": [
              "bool"
            ]
          },
          "metadata": {},
          "execution_count": 10
        }
      ]
    },
    {
      "cell_type": "markdown",
      "source": [
        "**NoneType**\n",
        "\n",
        "NoneType digunakan ketika variable tidak memiliki nilai, seperti pada contoh di bawah ini:"
      ],
      "metadata": {
        "id": "OmYYC6d2Kg5A"
      }
    },
    {
      "cell_type": "code",
      "source": [
        "\n",
        "num = None\n",
        "print(num)\n",
        "None\n",
        "type(num)"
      ],
      "metadata": {
        "colab": {
          "base_uri": "https://localhost:8080/"
        },
        "id": "F3OAQNHjKqsp",
        "outputId": "76e826a2-59ac-4bd5-e3ee-0c2edd462ed9"
      },
      "execution_count": 11,
      "outputs": [
        {
          "output_type": "stream",
          "name": "stdout",
          "text": [
            "None\n"
          ]
        },
        {
          "output_type": "execute_result",
          "data": {
            "text/plain": [
              "NoneType"
            ]
          },
          "metadata": {},
          "execution_count": 11
        }
      ]
    }
  ]
}